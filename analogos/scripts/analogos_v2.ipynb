{
 "cells": [
  {
   "cell_type": "code",
   "execution_count": 1,
   "id": "7fde3f5f",
   "metadata": {},
   "outputs": [],
   "source": [
    "import pandas as pd"
   ]
  },
  {
   "cell_type": "code",
   "execution_count": 2,
   "id": "1e9595c7",
   "metadata": {},
   "outputs": [
    {
     "data": {
      "text/plain": [
       "'d:\\\\OneDrive - CGIAR\\\\agrilac\\\\icc'"
      ]
     },
     "execution_count": 2,
     "metadata": {},
     "output_type": "execute_result"
    }
   ],
   "source": [
    "pwd"
   ]
  },
  {
   "cell_type": "code",
   "execution_count": null,
   "id": "a16875b0",
   "metadata": {},
   "outputs": [
    {
     "ename": "NameError",
     "evalue": "name 'pd' is not defined",
     "output_type": "error",
     "traceback": [
      "\u001b[1;31m---------------------------------------------------------------------------\u001b[0m",
      "\u001b[1;31mNameError\u001b[0m                                 Traceback (most recent call last)",
      "Cell \u001b[1;32mIn[1], line 1\u001b[0m\n\u001b[1;32m----> 1\u001b[0m prec \u001b[38;5;241m=\u001b[39m \u001b[43mpd\u001b[49m\u001b[38;5;241m.\u001b[39mread_excel(\u001b[38;5;124m\"\u001b[39m\u001b[38;5;130;01m\\\\\u001b[39;00m\u001b[38;5;124mcatalogue\u001b[39m\u001b[38;5;124m\\\u001b[39m\u001b[38;5;124mWFP_ClimateRiskPr1\u001b[39m\u001b[38;5;130;01m\\1\u001b[39;00m\u001b[38;5;124m.Data\u001b[39m\u001b[38;5;124m\\\u001b[39m\u001b[38;5;124mChirps\u001b[39m\u001b[38;5;124m\"\u001b[39m)\n\u001b[0;32m      3\u001b[0m prec\u001b[38;5;241m.\u001b[39minfo()\n",
      "\u001b[1;31mNameError\u001b[0m: name 'pd' is not defined"
     ]
    }
   ],
   "source": [
    "prec = pd.read_excel(\"D:\\\\OneDrive - CGIAR\\\\agrilac\\\\icc\\\\cengicana_prec.xlsx\")\n",
    "\n",
    "prec.info()"
   ]
  },
  {
   "cell_type": "code",
   "execution_count": 4,
   "id": "b29e5481",
   "metadata": {},
   "outputs": [],
   "source": [
    "pac = pd.read_excel('oni_pacifico.xlsx')\n",
    "atl =pd.read_excel('oni_atlantico.xlsx')"
   ]
  },
  {
   "cell_type": "code",
   "execution_count": 5,
   "id": "d5128f96",
   "metadata": {},
   "outputs": [
    {
     "name": "stdout",
     "output_type": "stream",
     "text": [
      "<class 'pandas.core.frame.DataFrame'>\n",
      "RangeIndex: 312 entries, 0 to 311\n",
      "Data columns (total 3 columns):\n",
      " #   Column  Non-Null Count  Dtype  \n",
      "---  ------  --------------  -----  \n",
      " 0   year    312 non-null    int64  \n",
      " 1   month   312 non-null    int64  \n",
      " 2   oni     312 non-null    float64\n",
      "dtypes: float64(1), int64(2)\n",
      "memory usage: 7.4 KB\n"
     ]
    }
   ],
   "source": [
    "pac.info()"
   ]
  },
  {
   "cell_type": "code",
   "execution_count": 7,
   "id": "ddd5c0f5",
   "metadata": {},
   "outputs": [],
   "source": [
    "import pandas as pd\n",
    "import numpy as np\n",
    "from sklearn.metrics import mean_absolute_error, mean_squared_error\n",
    "import warnings\n",
    "\n",
    "def maape(y_true, y_pred):\n",
    "    with np.errstate(divide='ignore', invalid='ignore'):\n",
    "        arctan = np.arctan(np.abs((y_true - y_pred) / (y_true + 1e-10)))\n",
    "    return np.mean(arctan)\n",
    "\n",
    "def validate_input(df, required_columns, df_name):\n",
    "    if not isinstance(df, pd.DataFrame):\n",
    "        raise ValueError(f\"{df_name} debe ser un DataFrame de pandas.\")\n",
    "    missing_cols = [col for col in required_columns if col not in df.columns]\n",
    "    if missing_cols:\n",
    "        raise ValueError(f\"{df_name} falta columnas requeridas: {missing_cols}\")\n",
    "\n",
    "def build_series(df, year, month, window=6):\n",
    "    df_sorted = df.sort_values(['year', 'month']).reset_index(drop=True)\n",
    "    series = []\n",
    "    current_year, current_month = year, month\n",
    "\n",
    "    for _ in range(window):\n",
    "        match = df_sorted[(df_sorted['year'] == current_year) & (df_sorted['month'] == current_month)]\n",
    "        if match.empty:\n",
    "            return None  # No se puede construir la serie completa\n",
    "        series.append(match.iloc[0])\n",
    "\n",
    "        # Retroceder un mes\n",
    "        if current_month == 1:\n",
    "            current_month = 12\n",
    "            current_year -= 1\n",
    "        else:\n",
    "            current_month -= 1\n",
    "\n",
    "    series_df = pd.DataFrame(series[::-1])  # Revertir para mantener el orden cronológico\n",
    "    return series_df.reset_index(drop=True)\n",
    "\n",
    "def build_past_series(df, year, month, window=6):\n",
    "    df_sorted = df.sort_values(['year', 'month']).reset_index(drop=True)\n",
    "    years = df_sorted['year'].unique()\n",
    "    past_years = years[years < year]\n",
    "    series_list = []\n",
    "\n",
    "    for past_year in past_years:\n",
    "        series = build_series(df_sorted, past_year, month, window)\n",
    "        if series is not None:\n",
    "            series_list.append((past_year, series))\n",
    "\n",
    "    return series_list\n",
    "\n",
    "def compare_series(base_series, past_series_list, var, base_name=None):\n",
    "    results = []\n",
    "    y_true = base_series[var].values\n",
    "\n",
    "    for year, past_series in past_series_list:\n",
    "        y_pred = past_series[var].values\n",
    "\n",
    "        if len(y_true) != len(y_pred):\n",
    "            warnings.warn(f\"El tamaño de la serie base y {year} no coincide. Se omite este año.\")\n",
    "            continue\n",
    "\n",
    "        if not all(base_series['month'].values == past_series['month'].values):\n",
    "            warnings.warn(f\"Los meses de la serie base y {year} no coinciden exactamente. Se omite este año.\")\n",
    "            continue\n",
    "\n",
    "        result = {\n",
    "            'base': base_name if base_name else var,  # <<< Aquí corregimos la base explícita\n",
    "            'año_comparado': year,\n",
    "            'MAAPE': maape(y_true, y_pred),\n",
    "            'RMSE': mean_squared_error(y_true, y_pred, squared=False),\n",
    "            'MAE': mean_absolute_error(y_true, y_pred)\n",
    "        }\n",
    "        results.append(result)\n",
    "\n",
    "    return results\n",
    "\n",
    "def comparar_dataframes(prec_df, atl_df, pac_df, year, month):\n",
    "    validate_input(prec_df, ['year', 'month', 'prec'], 'prec_df')\n",
    "    validate_input(atl_df, ['year', 'month', 'oni'], 'atl_df')\n",
    "    validate_input(pac_df, ['year', 'month', 'oni'], 'pac_df')\n",
    "\n",
    "    # Construir series base\n",
    "    prec_base = build_series(prec_df, year, month)\n",
    "    atl_base = build_series(atl_df, year, month)\n",
    "    pac_base = build_series(pac_df, year, month)\n",
    "\n",
    "    if prec_base is None or atl_base is None or pac_base is None:\n",
    "        raise ValueError(f\"No se puede construir la serie completa para el año {year} y mes {month}. Verifique los datos.\")\n",
    "\n",
    "    # Construir series de años pasados\n",
    "    prec_past = build_past_series(prec_df, year, month)\n",
    "    atl_past = build_past_series(atl_df, year, month)\n",
    "    pac_past = build_past_series(pac_df, year, month)\n",
    "\n",
    "    # Comparaciones (ahora indicando base explícita)\n",
    "    prec_results = compare_series(prec_base, prec_past, 'prec', base_name='prec')\n",
    "    atl_results = compare_series(atl_base, atl_past, 'oni', base_name='atl')\n",
    "    pac_results = compare_series(pac_base, pac_past, 'oni', base_name='pac')\n",
    "\n",
    "    all_results = prec_results + atl_results + pac_results\n",
    "    results_df = pd.DataFrame(all_results)\n",
    "\n",
    "    return results_df#.sort_values(['base', 'MAAPE']).reset_index(drop=True)\n",
    "\n",
    "# Ejemplo de uso:\n",
    "# resultados = comparar_dataframes(prec, atl, pac, 2020, 4)\n",
    "# print(resultados)\n"
   ]
  },
  {
   "cell_type": "code",
   "execution_count": null,
   "id": "f3183bcc",
   "metadata": {},
   "outputs": [],
   "source": []
  },
  {
   "cell_type": "code",
   "execution_count": 8,
   "id": "4e50f853",
   "metadata": {},
   "outputs": [],
   "source": [
    "def ponderar_resultados(resultados_df):\n",
    "    # Definir pesos\n",
    "    pesos = {\n",
    "        'prec': 0.4,\n",
    "        'pac': 0.35,\n",
    "        'atl': 0.25\n",
    "    }\n",
    "    \n",
    "    # Validar que todas las bases estén presentes\n",
    "    bases_validas = ['prec', 'pac', 'atl']\n",
    "    presentes = resultados_df['base'].unique()\n",
    "    for base in bases_validas:\n",
    "        if base not in presentes:\n",
    "            warnings.warn(f\"La base '{base}' no está presente en los datos.\")\n",
    "    \n",
    "    combinados = []\n",
    "\n",
    "    # Obtener todos los años únicos\n",
    "    años = resultados_df['año_comparado'].unique()\n",
    "\n",
    "    for año in sorted(años):\n",
    "        datos_año = resultados_df[resultados_df['año_comparado'] == año]\n",
    "\n",
    "        for metrica in ['MAAPE', 'RMSE', 'MAE']:\n",
    "            valor = 0\n",
    "            for _, fila in datos_año.iterrows():\n",
    "                base = fila['base']\n",
    "                if base in pesos:\n",
    "                    valor += fila[metrica] * pesos[base]\n",
    "            combinados.append({\n",
    "                'año_comparado': año,\n",
    "                'metrica': metrica,\n",
    "                'valor_ponderado': valor\n",
    "            })\n",
    "\n",
    "    combinados_df = pd.DataFrame(combinados)\n",
    "    return combinados_df\n",
    "\n",
    "# Ejemplo de uso:\n",
    "# ponderados_df = ponderar_resultados(resultados)\n",
    "# print(ponderados_df)\n"
   ]
  },
  {
   "cell_type": "code",
   "execution_count": 16,
   "id": "d50d7561",
   "metadata": {},
   "outputs": [],
   "source": [
    "year=2021"
   ]
  },
  {
   "cell_type": "code",
   "execution_count": 17,
   "id": "cf7fbeb9",
   "metadata": {},
   "outputs": [],
   "source": [
    "resultados = comparar_dataframes(prec, atl, pac, year, 4)"
   ]
  },
  {
   "cell_type": "code",
   "execution_count": 18,
   "id": "fbc93d91",
   "metadata": {},
   "outputs": [
    {
     "data": {
      "text/html": [
       "<div>\n",
       "<style scoped>\n",
       "    .dataframe tbody tr th:only-of-type {\n",
       "        vertical-align: middle;\n",
       "    }\n",
       "\n",
       "    .dataframe tbody tr th {\n",
       "        vertical-align: top;\n",
       "    }\n",
       "\n",
       "    .dataframe thead th {\n",
       "        text-align: right;\n",
       "    }\n",
       "</style>\n",
       "<table border=\"1\" class=\"dataframe\">\n",
       "  <thead>\n",
       "    <tr style=\"text-align: right;\">\n",
       "      <th></th>\n",
       "      <th>año_comparado</th>\n",
       "      <th>metrica</th>\n",
       "      <th>valor_ponderado</th>\n",
       "    </tr>\n",
       "  </thead>\n",
       "  <tbody>\n",
       "    <tr>\n",
       "      <th>58</th>\n",
       "      <td>2018</td>\n",
       "      <td>RMSE</td>\n",
       "      <td>11.955635</td>\n",
       "    </tr>\n",
       "    <tr>\n",
       "      <th>37</th>\n",
       "      <td>2011</td>\n",
       "      <td>RMSE</td>\n",
       "      <td>14.194651</td>\n",
       "    </tr>\n",
       "    <tr>\n",
       "      <th>13</th>\n",
       "      <td>2003</td>\n",
       "      <td>RMSE</td>\n",
       "      <td>15.982625</td>\n",
       "    </tr>\n",
       "    <tr>\n",
       "      <th>40</th>\n",
       "      <td>2012</td>\n",
       "      <td>RMSE</td>\n",
       "      <td>23.769844</td>\n",
       "    </tr>\n",
       "    <tr>\n",
       "      <th>64</th>\n",
       "      <td>2020</td>\n",
       "      <td>RMSE</td>\n",
       "      <td>27.719166</td>\n",
       "    </tr>\n",
       "  </tbody>\n",
       "</table>\n",
       "</div>"
      ],
      "text/plain": [
       "    año_comparado metrica  valor_ponderado\n",
       "58           2018    RMSE        11.955635\n",
       "37           2011    RMSE        14.194651\n",
       "13           2003    RMSE        15.982625\n",
       "40           2012    RMSE        23.769844\n",
       "64           2020    RMSE        27.719166"
      ]
     },
     "execution_count": 18,
     "metadata": {},
     "output_type": "execute_result"
    }
   ],
   "source": [
    "ponderados_df = ponderar_resultados(resultados)\n",
    "ponderados_df[ponderados_df.metrica == 'RMSE'].sort_values('valor_ponderado').head(5)"
   ]
  },
  {
   "cell_type": "code",
   "execution_count": 19,
   "id": "f0e02571",
   "metadata": {},
   "outputs": [
    {
     "data": {
      "text/html": [
       "<div>\n",
       "<style scoped>\n",
       "    .dataframe tbody tr th:only-of-type {\n",
       "        vertical-align: middle;\n",
       "    }\n",
       "\n",
       "    .dataframe tbody tr th {\n",
       "        vertical-align: top;\n",
       "    }\n",
       "\n",
       "    .dataframe thead th {\n",
       "        text-align: right;\n",
       "    }\n",
       "</style>\n",
       "<table border=\"1\" class=\"dataframe\">\n",
       "  <thead>\n",
       "    <tr style=\"text-align: right;\">\n",
       "      <th></th>\n",
       "      <th>year</th>\n",
       "      <th>sem_iell</th>\n",
       "      <th>fell</th>\n",
       "    </tr>\n",
       "  </thead>\n",
       "  <tbody>\n",
       "    <tr>\n",
       "      <th>0</th>\n",
       "      <td>2025</td>\n",
       "      <td>NaN</td>\n",
       "      <td>NaN</td>\n",
       "    </tr>\n",
       "    <tr>\n",
       "      <th>1</th>\n",
       "      <td>2024</td>\n",
       "      <td>23.0</td>\n",
       "      <td>66.0</td>\n",
       "    </tr>\n",
       "  </tbody>\n",
       "</table>\n",
       "</div>"
      ],
      "text/plain": [
       "   year  sem_iell  fell\n",
       "0  2025       NaN   NaN\n",
       "1  2024      23.0  66.0"
      ]
     },
     "execution_count": 19,
     "metadata": {},
     "output_type": "execute_result"
    }
   ],
   "source": [
    "real = pd.read_excel('week_prec_cengicana.xlsx')\n",
    "real.head(2)"
   ]
  },
  {
   "cell_type": "code",
   "execution_count": 20,
   "id": "3476e9c3",
   "metadata": {},
   "outputs": [
    {
     "name": "stdout",
     "output_type": "stream",
     "text": [
      "   año_comparado metrica  valor_ponderado  year  sem_iell  fell\n",
      "0           2018    RMSE        11.955635  2018      18.0  63.0\n",
      "1           2011    RMSE        14.194651  2011      19.0  60.0\n",
      "2           2003    RMSE        15.982625  2003      24.0  65.0\n",
      "3           2012    RMSE        23.769844  2012      16.0  68.0\n",
      "4           2020    RMSE        27.719166  2020      24.0  68.0\n"
     ]
    },
    {
     "data": {
      "text/plain": [
       "20.2"
      ]
     },
     "execution_count": 20,
     "metadata": {},
     "output_type": "execute_result"
    }
   ],
   "source": [
    "mape =ponderados_df[ponderados_df.metrica == 'RMSE'].sort_values('valor_ponderado').merge(real,how='inner', left_on='año_comparado', right_on='year')\n",
    "print(mape.head())\n",
    "mape.sem_iell.head().mean()"
   ]
  },
  {
   "cell_type": "code",
   "execution_count": 21,
   "id": "b80d47f6",
   "metadata": {},
   "outputs": [
    {
     "data": {
      "text/html": [
       "<div>\n",
       "<style scoped>\n",
       "    .dataframe tbody tr th:only-of-type {\n",
       "        vertical-align: middle;\n",
       "    }\n",
       "\n",
       "    .dataframe tbody tr th {\n",
       "        vertical-align: top;\n",
       "    }\n",
       "\n",
       "    .dataframe thead th {\n",
       "        text-align: right;\n",
       "    }\n",
       "</style>\n",
       "<table border=\"1\" class=\"dataframe\">\n",
       "  <thead>\n",
       "    <tr style=\"text-align: right;\">\n",
       "      <th></th>\n",
       "      <th>año_comparado</th>\n",
       "      <th>metrica</th>\n",
       "      <th>valor_ponderado</th>\n",
       "    </tr>\n",
       "  </thead>\n",
       "  <tbody>\n",
       "    <tr>\n",
       "      <th>13</th>\n",
       "      <td>2003</td>\n",
       "      <td>RMSE</td>\n",
       "      <td>21.052579</td>\n",
       "    </tr>\n",
       "    <tr>\n",
       "      <th>64</th>\n",
       "      <td>2020</td>\n",
       "      <td>RMSE</td>\n",
       "      <td>23.481814</td>\n",
       "    </tr>\n",
       "    <tr>\n",
       "      <th>43</th>\n",
       "      <td>2013</td>\n",
       "      <td>RMSE</td>\n",
       "      <td>31.406747</td>\n",
       "    </tr>\n",
       "    <tr>\n",
       "      <th>40</th>\n",
       "      <td>2012</td>\n",
       "      <td>RMSE</td>\n",
       "      <td>33.912385</td>\n",
       "    </tr>\n",
       "    <tr>\n",
       "      <th>10</th>\n",
       "      <td>2002</td>\n",
       "      <td>RMSE</td>\n",
       "      <td>34.543417</td>\n",
       "    </tr>\n",
       "  </tbody>\n",
       "</table>\n",
       "</div>"
      ],
      "text/plain": [
       "    año_comparado metrica  valor_ponderado\n",
       "13           2003    RMSE        21.052579\n",
       "64           2020    RMSE        23.481814\n",
       "43           2013    RMSE        31.406747\n",
       "40           2012    RMSE        33.912385\n",
       "10           2002    RMSE        34.543417"
      ]
     },
     "execution_count": 21,
     "metadata": {},
     "output_type": "execute_result"
    }
   ],
   "source": [
    "resultados_ = comparar_dataframes(prec, atl, pac, year, 3)\n",
    "ponderados_df_ = ponderar_resultados(resultados_)\n",
    "ponderados_df_[ponderados_df_.metrica == 'RMSE'].sort_values('valor_ponderado').head()"
   ]
  },
  {
   "cell_type": "code",
   "execution_count": 22,
   "id": "7eba6b70",
   "metadata": {},
   "outputs": [
    {
     "name": "stdout",
     "output_type": "stream",
     "text": [
      "   año_comparado metrica  valor_ponderado  year  sem_iell  fell\n",
      "0           2003    RMSE        21.052579  2003      24.0  65.0\n",
      "1           2020    RMSE        23.481814  2020      24.0  68.0\n",
      "2           2013    RMSE        31.406747  2013      23.0  66.0\n",
      "3           2012    RMSE        33.912385  2012      16.0  68.0\n",
      "4           2002    RMSE        34.543417  2002      23.0  67.0\n"
     ]
    },
    {
     "data": {
      "text/plain": [
       "22.0"
      ]
     },
     "execution_count": 22,
     "metadata": {},
     "output_type": "execute_result"
    }
   ],
   "source": [
    "mape_ =ponderados_df_[ponderados_df_.metrica == 'RMSE'].sort_values('valor_ponderado').merge(real,how='inner', left_on='año_comparado', right_on='year')\n",
    "print(mape_.head())\n",
    "mape_.sem_iell.head().mean()"
   ]
  },
  {
   "cell_type": "code",
   "execution_count": null,
   "id": "85de017a",
   "metadata": {},
   "outputs": [],
   "source": []
  },
  {
   "cell_type": "code",
   "execution_count": null,
   "id": "9fd8aa19",
   "metadata": {},
   "outputs": [],
   "source": []
  },
  {
   "cell_type": "code",
   "execution_count": null,
   "id": "d3e63d24",
   "metadata": {},
   "outputs": [],
   "source": []
  }
 ],
 "metadata": {
  "kernelspec": {
   "display_name": "base",
   "language": "python",
   "name": "python3"
  },
  "language_info": {
   "codemirror_mode": {
    "name": "ipython",
    "version": 3
   },
   "file_extension": ".py",
   "mimetype": "text/x-python",
   "name": "python",
   "nbconvert_exporter": "python",
   "pygments_lexer": "ipython3",
   "version": "3.10.9"
  }
 },
 "nbformat": 4,
 "nbformat_minor": 5
}
